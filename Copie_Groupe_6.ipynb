{
 "cells": [
  {
   "cell_type": "code",
   "execution_count": 2,
   "metadata": {},
   "outputs": [],
   "source": [
    "#import pandas\n",
    "import pandas as psd"
   ]
  },
  {
   "cell_type": "code",
   "execution_count": 3,
   "metadata": {},
   "outputs": [
    {
     "data": {
      "text/html": [
       "<div>\n",
       "<style scoped>\n",
       "    .dataframe tbody tr th:only-of-type {\n",
       "        vertical-align: middle;\n",
       "    }\n",
       "\n",
       "    .dataframe tbody tr th {\n",
       "        vertical-align: top;\n",
       "    }\n",
       "\n",
       "    .dataframe thead th {\n",
       "        text-align: right;\n",
       "    }\n",
       "</style>\n",
       "<table border=\"1\" class=\"dataframe\">\n",
       "  <thead>\n",
       "    <tr style=\"text-align: right;\">\n",
       "      <th></th>\n",
       "      <th>1 . Numéro d'Articledans le corpus</th>\n",
       "      <th>2. Média</th>\n",
       "      <th>3. Titre article</th>\n",
       "      <th>4. Sujet</th>\n",
       "      <th>4bis. Si Autre, préciser</th>\n",
       "      <th>5. Type</th>\n",
       "      <th>5bis Type2. Caractérisation type</th>\n",
       "      <th>5ter. Type3. Caractérisation interviewée (entretien), portrait, tribune</th>\n",
       "      <th>5quatro. Type4. Si entretien, caractériser</th>\n",
       "      <th>6. Rubrique</th>\n",
       "      <th>...</th>\n",
       "      <th>30bis Voix 3 Identité</th>\n",
       "      <th>31 Voix 4 Fonction</th>\n",
       "      <th>31bis Voix 4 Identité</th>\n",
       "      <th>32 Voix 5 Fonction</th>\n",
       "      <th>32bis Voix 5 Identité</th>\n",
       "      <th>33 Voix 6 Fonction</th>\n",
       "      <th>33bis Voix 6 Identité</th>\n",
       "      <th>34 Voix 7 Fonction</th>\n",
       "      <th>34bis Voix 7 Identité</th>\n",
       "      <th>Nom codeur</th>\n",
       "    </tr>\n",
       "  </thead>\n",
       "  <tbody>\n",
       "    <tr>\n",
       "      <th>31</th>\n",
       "      <td>595</td>\n",
       "      <td>Le Monde</td>\n",
       "      <td>Le propriétaire de \"Valeurs actuelles\" en posi...</td>\n",
       "      <td>Autre</td>\n",
       "      <td>Nice-Matin</td>\n",
       "      <td>Article</td>\n",
       "      <td>NP</td>\n",
       "      <td>NP</td>\n",
       "      <td>NP</td>\n",
       "      <td>Société</td>\n",
       "      <td>...</td>\n",
       "      <td>NP</td>\n",
       "      <td>NP</td>\n",
       "      <td>NP</td>\n",
       "      <td>NP</td>\n",
       "      <td>NP</td>\n",
       "      <td>NP</td>\n",
       "      <td>NP</td>\n",
       "      <td>NP</td>\n",
       "      <td>NP</td>\n",
       "      <td>Mickael</td>\n",
       "    </tr>\n",
       "  </tbody>\n",
       "</table>\n",
       "<p>1 rows × 73 columns</p>\n",
       "</div>"
      ],
      "text/plain": [
       "    1 . Numéro d'Articledans le corpus  2. Média  \\\n",
       "31                                 595  Le Monde   \n",
       "\n",
       "                                     3. Titre article 4. Sujet  \\\n",
       "31  Le propriétaire de \"Valeurs actuelles\" en posi...    Autre   \n",
       "\n",
       "   4bis. Si Autre, préciser  5. Type 5bis Type2. Caractérisation type  \\\n",
       "31               Nice-Matin  Article                               NP   \n",
       "\n",
       "   5ter. Type3. Caractérisation interviewée (entretien), portrait, tribune  \\\n",
       "31                                                 NP                        \n",
       "\n",
       "   5quatro. Type4. Si entretien, caractériser 6. Rubrique  ...  \\\n",
       "31                                         NP     Société  ...   \n",
       "\n",
       "   30bis Voix 3 Identité 31 Voix 4 Fonction 31bis Voix 4 Identité  \\\n",
       "31                    NP                 NP                    NP   \n",
       "\n",
       "   32 Voix 5 Fonction  32bis Voix 5 Identité 33 Voix 6 Fonction  \\\n",
       "31                  NP                    NP                 NP   \n",
       "\n",
       "   33bis Voix 6 Identité 34 Voix 7 Fonction  34bis Voix 7 Identité  Nom codeur  \n",
       "31                    NP                 NP                     NP     Mickael  \n",
       "\n",
       "[1 rows x 73 columns]"
      ]
     },
     "execution_count": 3,
     "metadata": {},
     "output_type": "execute_result"
    }
   ],
   "source": [
    "#read the file using pandas and assign it into a variable \n",
    "data = psd.read_csv(\"Copie_groupe_6.csv\", sep=\",\", skiprows=1)\n",
    "data.sample()\n"
   ]
  },
  {
   "cell_type": "code",
   "execution_count": 4,
   "metadata": {},
   "outputs": [],
   "source": [
    "#Count the unique values for each media"
   ]
  },
  {
   "cell_type": "code",
   "execution_count": 5,
   "metadata": {},
   "outputs": [
    {
     "data": {
      "text/plain": [
       "Le Monde       39\n",
       "Le Figaro      37\n",
       "Libération     33\n",
       "Le Parisien    16\n",
       "L'Humanité      6\n",
       "La Croix        3\n",
       "Name: 2. Média, dtype: int64"
      ]
     },
     "execution_count": 5,
     "metadata": {},
     "output_type": "execute_result"
    }
   ],
   "source": [
    "data[\"2. Média\"].value_counts()"
   ]
  },
  {
   "cell_type": "code",
   "execution_count": 6,
   "metadata": {},
   "outputs": [
    {
     "data": {
      "text/plain": [
       "Autre     122\n",
       "RN          8\n",
       "Macron      4\n",
       "Name: 4. Sujet, dtype: int64"
      ]
     },
     "execution_count": 6,
     "metadata": {},
     "output_type": "execute_result"
    }
   ],
   "source": [
    "#Count the unique values for each subject\n",
    "data[\"4. Sujet\"].value_counts()"
   ]
  },
  {
   "cell_type": "code",
   "execution_count": 7,
   "metadata": {},
   "outputs": [
    {
     "data": {
      "text/plain": [
       "Article                 89\n",
       "Chronique               20\n",
       "Portrait                13\n",
       "Interview                3\n",
       "Analyse                  2\n",
       "Tribune                  2\n",
       "Réponse aux lecteurs     1\n",
       "Reportage                1\n",
       "FactChecking             1\n",
       "Entretien                1\n",
       "Enquete                  1\n",
       "Name: 5. Type, dtype: int64"
      ]
     },
     "execution_count": 7,
     "metadata": {},
     "output_type": "execute_result"
    }
   ],
   "source": [
    "#count the unique values for type \n",
    "data[\"5. Type\"].value_counts()"
   ]
  },
  {
   "cell_type": "code",
   "execution_count": 8,
   "metadata": {},
   "outputs": [
    {
     "data": {
      "text/plain": [
       "Politique-Elections    70\n",
       "Société                34\n",
       "Médias & culture       12\n",
       "Actualité              11\n",
       "Débat                   3\n",
       "Economie                2\n",
       "FactChecking            1\n",
       "Portraits               1\n",
       "Name: 6. Rubrique, dtype: int64"
      ]
     },
     "execution_count": 8,
     "metadata": {},
     "output_type": "execute_result"
    }
   ],
   "source": [
    "#count the unique values for rubriques\n",
    "data[\"6. Rubrique\"].value_counts()"
   ]
  },
  {
   "cell_type": "code",
   "execution_count": 9,
   "metadata": {},
   "outputs": [
    {
     "data": {
      "text/plain": [
       "Presse             92\n",
       "France             18\n",
       "Droite             10\n",
       "Immigration         5\n",
       "Droits humains      3\n",
       "Droits sociaux      1\n",
       "Immobilier          1\n",
       "Radio               1\n",
       "Journalisme         1\n",
       "Feminisme           1\n",
       "Le pen              1\n",
       "Name: 8. Méta-thème (agrégat), dtype: int64"
      ]
     },
     "execution_count": 9,
     "metadata": {},
     "output_type": "execute_result"
    }
   ],
   "source": [
    "##count the unique values for type \n",
    "data[\"8. Méta-thème (agrégat)\"].value_counts()"
   ]
  },
  {
   "cell_type": "code",
   "execution_count": 10,
   "metadata": {},
   "outputs": [
    {
     "data": {
      "text/plain": [
       "Le Figaro             6\n",
       "Le Parisien           5\n",
       "Jérôme Lefilliâtre    4\n",
       "Pierre Lepelletier    4\n",
       "AFP                   3\n",
       "Jérôme Lefilliatre    3\n",
       "Alexandre Berteau     3\n",
       "Olivier Faye          3\n",
       "Guillaume Tabard      3\n",
       "Lucie Soullier        3\n",
       "Name: 10. Auteur, dtype: int64"
      ]
     },
     "execution_count": 10,
     "metadata": {},
     "output_type": "execute_result"
    }
   ],
   "source": [
    "#Replace Jerôme par Jérôme \n",
    "data[\"10. Auteur\"] = data['10. Auteur'].str.replace('Jerôme', 'Jérôme')\n",
    "#count the 10 mean authors\n",
    "data[\"10. Auteur\"].value_counts().head(10)"
   ]
  },
  {
   "cell_type": "code",
   "execution_count": 11,
   "metadata": {},
   "outputs": [
    {
     "data": {
      "text/plain": [
       "9175"
      ]
     },
     "execution_count": 11,
     "metadata": {},
     "output_type": "execute_result"
    }
   ],
   "source": [
    "#Calculate the max for number of words\n",
    "data['12. Nombre de mots'].max()"
   ]
  },
  {
   "cell_type": "code",
   "execution_count": 12,
   "metadata": {},
   "outputs": [
    {
     "data": {
      "text/plain": [
       "270"
      ]
     },
     "execution_count": 12,
     "metadata": {},
     "output_type": "execute_result"
    }
   ],
   "source": [
    "#Calculate the min for number of words\n",
    "data['12. Nombre de mots'].min()"
   ]
  },
  {
   "cell_type": "code",
   "execution_count": 13,
   "metadata": {},
   "outputs": [
    {
     "data": {
      "text/plain": [
       "922.5"
      ]
     },
     "execution_count": 13,
     "metadata": {},
     "output_type": "execute_result"
    }
   ],
   "source": [
    "#Calculate the median for number of words\n",
    "data['12. Nombre de mots'].median()"
   ]
  },
  {
   "cell_type": "code",
   "execution_count": 14,
   "metadata": {},
   "outputs": [
    {
     "data": {
      "text/plain": [
       "1524.7910447761194"
      ]
     },
     "execution_count": 14,
     "metadata": {},
     "output_type": "execute_result"
    }
   ],
   "source": [
    "#Calculate the mean for number of words\n",
    "data['12. Nombre de mots'].mean()"
   ]
  },
  {
   "cell_type": "code",
   "execution_count": 15,
   "metadata": {},
   "outputs": [
    {
     "data": {
      "text/html": [
       "<div>\n",
       "<style scoped>\n",
       "    .dataframe tbody tr th:only-of-type {\n",
       "        vertical-align: middle;\n",
       "    }\n",
       "\n",
       "    .dataframe tbody tr th {\n",
       "        vertical-align: top;\n",
       "    }\n",
       "\n",
       "    .dataframe thead th {\n",
       "        text-align: right;\n",
       "    }\n",
       "</style>\n",
       "<table border=\"1\" class=\"dataframe\">\n",
       "  <thead>\n",
       "    <tr style=\"text-align: right;\">\n",
       "      <th></th>\n",
       "      <th>1 . Numéro d'Articledans le corpus</th>\n",
       "      <th>2. Média</th>\n",
       "      <th>3. Titre article</th>\n",
       "      <th>4. Sujet</th>\n",
       "      <th>4bis. Si Autre, préciser</th>\n",
       "      <th>5. Type</th>\n",
       "      <th>5bis Type2. Caractérisation type</th>\n",
       "      <th>5ter. Type3. Caractérisation interviewée (entretien), portrait, tribune</th>\n",
       "      <th>5quatro. Type4. Si entretien, caractériser</th>\n",
       "      <th>6. Rubrique</th>\n",
       "      <th>...</th>\n",
       "      <th>30bis Voix 3 Identité</th>\n",
       "      <th>31 Voix 4 Fonction</th>\n",
       "      <th>31bis Voix 4 Identité</th>\n",
       "      <th>32 Voix 5 Fonction</th>\n",
       "      <th>32bis Voix 5 Identité</th>\n",
       "      <th>33 Voix 6 Fonction</th>\n",
       "      <th>33bis Voix 6 Identité</th>\n",
       "      <th>34 Voix 7 Fonction</th>\n",
       "      <th>34bis Voix 7 Identité</th>\n",
       "      <th>Nom codeur</th>\n",
       "    </tr>\n",
       "  </thead>\n",
       "  <tbody>\n",
       "    <tr>\n",
       "      <th>23</th>\n",
       "      <td>587</td>\n",
       "      <td>Libération</td>\n",
       "      <td>Chez LR, des racines et du zèle</td>\n",
       "      <td>Autre</td>\n",
       "      <td>LR</td>\n",
       "      <td>Chronique</td>\n",
       "      <td>journaliste interne</td>\n",
       "      <td>NP</td>\n",
       "      <td>NP</td>\n",
       "      <td>Politique-Elections</td>\n",
       "      <td>...</td>\n",
       "      <td>Laurent Wauquiez, patron de LR</td>\n",
       "      <td>6</td>\n",
       "      <td>Samuel Hutington, professeur américain</td>\n",
       "      <td>5</td>\n",
       "      <td>Frédéric Saint-Clair, chronique à Valeurs actu...</td>\n",
       "      <td>6bis</td>\n",
       "      <td>Cécile Alduy, sémiologue</td>\n",
       "      <td>6</td>\n",
       "      <td>Bruno Cautrés, politologue</td>\n",
       "      <td>Mickael</td>\n",
       "    </tr>\n",
       "  </tbody>\n",
       "</table>\n",
       "<p>1 rows × 73 columns</p>\n",
       "</div>"
      ],
      "text/plain": [
       "    1 . Numéro d'Articledans le corpus    2. Média  \\\n",
       "23                                 587  Libération   \n",
       "\n",
       "                   3. Titre article 4. Sujet 4bis. Si Autre, préciser  \\\n",
       "23  Chez LR, des racines et du zèle    Autre                       LR   \n",
       "\n",
       "      5. Type 5bis Type2. Caractérisation type  \\\n",
       "23  Chronique              journaliste interne   \n",
       "\n",
       "   5ter. Type3. Caractérisation interviewée (entretien), portrait, tribune  \\\n",
       "23                                                 NP                        \n",
       "\n",
       "   5quatro. Type4. Si entretien, caractériser          6. Rubrique  ...  \\\n",
       "23                                         NP  Politique-Elections  ...   \n",
       "\n",
       "             30bis Voix 3 Identité 31 Voix 4 Fonction  \\\n",
       "23  Laurent Wauquiez, patron de LR                  6   \n",
       "\n",
       "                     31bis Voix 4 Identité 32 Voix 5 Fonction   \\\n",
       "23  Samuel Hutington, professeur américain                   5   \n",
       "\n",
       "                                32bis Voix 5 Identité 33 Voix 6 Fonction  \\\n",
       "23  Frédéric Saint-Clair, chronique à Valeurs actu...               6bis   \n",
       "\n",
       "       33bis Voix 6 Identité 34 Voix 7 Fonction       34bis Voix 7 Identité  \\\n",
       "23  Cécile Alduy, sémiologue                  6  Bruno Cautrés, politologue   \n",
       "\n",
       "    Nom codeur  \n",
       "23     Mickael  \n",
       "\n",
       "[1 rows x 73 columns]"
      ]
     },
     "execution_count": 15,
     "metadata": {},
     "output_type": "execute_result"
    }
   ],
   "source": [
    "data.sample()"
   ]
  },
  {
   "cell_type": "code",
   "execution_count": 16,
   "metadata": {},
   "outputs": [
    {
     "data": {
      "text/plain": [
       "02-2018    18\n",
       "09-2018    14\n",
       "12-2018    14\n",
       "10-2018    13\n",
       "01-2019    12\n",
       "11-2018    11\n",
       "06-2019     9\n",
       "12-2017     9\n",
       "07-2019     8\n",
       "05-2019     7\n",
       "03-2018     6\n",
       "01-2018     5\n",
       "11-2017     4\n",
       "10-2017     3\n",
       "02-2019     1\n",
       "Name: 9bis Date 2 pour graphe *mois-anné*, dtype: int64"
      ]
     },
     "execution_count": 16,
     "metadata": {},
     "output_type": "execute_result"
    }
   ],
   "source": [
    "#Calculate le number of articles by date\n",
    "data[\"9bis Date 2 pour graphe *mois-anné*\"].value_counts()"
   ]
  },
  {
   "cell_type": "code",
   "execution_count": null,
   "metadata": {},
   "outputs": [],
   "source": []
  }
 ],
 "metadata": {
  "kernelspec": {
   "display_name": "Python 3",
   "language": "python",
   "name": "python3"
  },
  "language_info": {
   "codemirror_mode": {
    "name": "ipython",
    "version": 3
   },
   "file_extension": ".py",
   "mimetype": "text/x-python",
   "name": "python",
   "nbconvert_exporter": "python",
   "pygments_lexer": "ipython3",
   "version": "3.8.5"
  }
 },
 "nbformat": 4,
 "nbformat_minor": 4
}
